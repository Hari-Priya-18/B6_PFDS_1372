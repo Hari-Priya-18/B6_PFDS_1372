{
  "nbformat": 4,
  "nbformat_minor": 0,
  "metadata": {
    "colab": {
      "provenance": [],
      "authorship_tag": "ABX9TyMRrV+w5dh39cmQloiO94Ph",
      "include_colab_link": true
    },
    "kernelspec": {
      "name": "python3",
      "display_name": "Python 3"
    },
    "language_info": {
      "name": "python"
    }
  },
  "cells": [
    {
      "cell_type": "markdown",
      "metadata": {
        "id": "view-in-github",
        "colab_type": "text"
      },
      "source": [
        "<a href=\"https://colab.research.google.com/github/Hari-Priya-18/B6_PFDS_1372/blob/main/Lab_06.ipynb\" target=\"_parent\"><img src=\"https://colab.research.google.com/assets/colab-badge.svg\" alt=\"Open In Colab\"/></a>"
      ]
    },
    {
      "cell_type": "code",
      "execution_count": 1,
      "metadata": {
        "colab": {
          "base_uri": "https://localhost:8080/"
        },
        "id": "aoWvdsDR8wkt",
        "outputId": "bd9fb35c-a81d-477b-d195-72f3d3583372"
      },
      "outputs": [
        {
          "output_type": "stream",
          "name": "stdout",
          "text": [
            "Original Sales Dataset:\n",
            "    Transaction_ID     Product  Amount\n",
            "0             101      Laptop   80000\n",
            "1             102       Phone   20000\n",
            "2             103      Tablet   30000\n",
            "3             103      Tablet   30000\n",
            "4             104  Headphones    5000\n",
            "5             105     Monitor   15000\n",
            "6             105     Monitor   15000\n",
            "\n",
            "Number of duplicates before cleaning: 2\n",
            "Number of duplicates after cleaning: 0\n",
            "\n",
            "Cleaned Sales Dataset:\n",
            "    Transaction_ID     Product  Amount\n",
            "0             101      Laptop   80000\n",
            "1             102       Phone   20000\n",
            "2             103      Tablet   30000\n",
            "4             104  Headphones    5000\n",
            "5             105     Monitor   15000\n"
          ]
        }
      ],
      "source": [
        "import pandas as pd\n",
        "\n",
        "# Step 1: Create a sample sales dataset with duplicates\n",
        "data = {\n",
        "    \"Transaction_ID\": [101, 102, 103, 103, 104, 105, 105],\n",
        "    \"Product\": [\"Laptop\", \"Phone\", \"Tablet\", \"Tablet\", \"Headphones\", \"Monitor\", \"Monitor\"],\n",
        "    \"Amount\": [80000, 20000, 30000, 30000, 5000, 15000, 15000]\n",
        "}\n",
        "\n",
        "sales_df = pd.DataFrame(data)\n",
        "print(\"Original Sales Dataset:\\n\", sales_df)\n",
        "\n",
        "# Step 2: Count duplicates\n",
        "duplicate_count = sales_df.duplicated().sum()\n",
        "print(\"\\nNumber of duplicates before cleaning:\", duplicate_count)\n",
        "\n",
        "# Step 3: Remove duplicates\n",
        "clean_sales_df = sales_df.drop_duplicates()\n",
        "\n",
        "# Step 4: Count duplicates after removal\n",
        "duplicate_count_after = clean_sales_df.duplicated().sum()\n",
        "print(\"Number of duplicates after cleaning:\", duplicate_count_after)\n",
        "\n",
        "print(\"\\nCleaned Sales Dataset:\\n\", clean_sales_df)\n"
      ]
    },
    {
      "cell_type": "code",
      "source": [
        "import pandas as pd\n",
        "\n",
        "# Step 1: Create dataset with wrong data types\n",
        "data = {\n",
        "    \"Employee_ID\": [1, 2, 3],\n",
        "    \"Name\": [\"Alice\", \"Bob\", \"Charlie\"],\n",
        "    \"Salary\": [\"50000\", \"60000\", \"70000\"],       # Stored as string\n",
        "    \"Joining_Date\": [\"2022-01-15\", \"2021-05-10\", \"2023-03-20\"]  # Stored as string\n",
        "}\n",
        "\n",
        "employee_df = pd.DataFrame(data)\n",
        "print(\"Original Data Types:\\n\", employee_df.dtypes)\n",
        "\n",
        "# Step 2: Convert Salary to numeric\n",
        "employee_df[\"Salary\"] = pd.to_numeric(employee_df[\"Salary\"])\n",
        "\n",
        "# Step 3: Convert Joining_Date to datetime\n",
        "employee_df[\"Joining_Date\"] = pd.to_datetime(employee_df[\"Joining_Date\"])\n",
        "\n",
        "print(\"\\nConverted Data Types:\\n\", employee_df.dtypes)\n",
        "print(\"\\nProcessed Employee Dataset:\\n\", employee_df)\n"
      ],
      "metadata": {
        "colab": {
          "base_uri": "https://localhost:8080/"
        },
        "id": "-um4nBbbASHb",
        "outputId": "0d3cd14c-44bb-427d-a6f9-fe939d125298"
      },
      "execution_count": 2,
      "outputs": [
        {
          "output_type": "stream",
          "name": "stdout",
          "text": [
            "Original Data Types:\n",
            " Employee_ID      int64\n",
            "Name            object\n",
            "Salary          object\n",
            "Joining_Date    object\n",
            "dtype: object\n",
            "\n",
            "Converted Data Types:\n",
            " Employee_ID              int64\n",
            "Name                    object\n",
            "Salary                   int64\n",
            "Joining_Date    datetime64[ns]\n",
            "dtype: object\n",
            "\n",
            "Processed Employee Dataset:\n",
            "    Employee_ID     Name  Salary Joining_Date\n",
            "0            1    Alice   50000   2022-01-15\n",
            "1            2      Bob   60000   2021-05-10\n",
            "2            3  Charlie   70000   2023-03-20\n"
          ]
        }
      ]
    }
  ]
}