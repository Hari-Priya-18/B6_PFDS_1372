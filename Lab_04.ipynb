{
  "nbformat": 4,
  "nbformat_minor": 0,
  "metadata": {
    "colab": {
      "provenance": [],
      "authorship_tag": "ABX9TyMJvXM4QMLylX7UUNAs7PXk",
      "include_colab_link": true
    },
    "kernelspec": {
      "name": "python3",
      "display_name": "Python 3"
    },
    "language_info": {
      "name": "python"
    }
  },
  "cells": [
    {
      "cell_type": "markdown",
      "metadata": {
        "id": "view-in-github",
        "colab_type": "text"
      },
      "source": [
        "<a href=\"https://colab.research.google.com/github/Hari-Priya-18/B6_PFDS_1372/blob/main/Lab_04.ipynb\" target=\"_parent\"><img src=\"https://colab.research.google.com/assets/colab-badge.svg\" alt=\"Open In Colab\"/></a>"
      ]
    },
    {
      "cell_type": "code",
      "execution_count": 2,
      "metadata": {
        "id": "Q6eD8Gro5CJX"
      },
      "outputs": [],
      "source": [
        "import csv\n",
        "with open(\"Student_scores.csv\",\"w\",newline=\"\") as f:\n",
        "  wr=csv.writer(f)\n",
        "  wr.writerow([\"Student_Id\",\"Name\",\"Maths\",\"Science\",\"English\"])\n",
        "  wr.writerow([\"101\",\"Hari\",80,70,75])\n",
        "  wr.writerow([\"102\",\"Priya\",65,75,85])\n",
        "  wr.writerow([\"103\",\"Sindhu\",75,75,85])\n",
        "  wr.writerow([\"104\",\"Nayana\",65,85,85])\n",
        "  wr.writerow([\"105\",\"Nithya\",85,75,65])"
      ]
    },
    {
      "cell_type": "code",
      "source": [
        "import pandas as pd\n",
        "df=pd.read_csv(\"Student_scores.csv\")\n",
        "print(df)"
      ],
      "metadata": {
        "colab": {
          "base_uri": "https://localhost:8080/"
        },
        "id": "qJmuq5Lx8WRn",
        "outputId": "137d6d39-a338-4818-9b9d-98562803c725"
      },
      "execution_count": 3,
      "outputs": [
        {
          "output_type": "stream",
          "name": "stdout",
          "text": [
            "   Student_Id    Name  Maths  Science  English\n",
            "0         101    Hari     80       70       75\n",
            "1         102   Priya     65       75       85\n",
            "2         103  Sindhu     75       75       85\n",
            "3         104  Nayana     65       85       85\n",
            "4         105  Nithya     85       75       65\n"
          ]
        }
      ]
    },
    {
      "cell_type": "code",
      "source": [
        "df[\"Maths\"].fillna(df[\"Maths\"].mean(), inplace=True)\n",
        "df[\"Science\"].fillna(df[\"Science\"].mean(), inplace=True)\n",
        "df[\"English\"].fillna(df[\"English\"].mean(), inplace=True)\n",
        "\n",
        "print(\"\\nData after filling missing values:\")\n",
        "print(df)"
      ],
      "metadata": {
        "colab": {
          "base_uri": "https://localhost:8080/"
        },
        "collapsed": true,
        "id": "LdOBJidO8hoL",
        "outputId": "45da3fad-7677-43ac-e571-998b39e9adbc"
      },
      "execution_count": 4,
      "outputs": [
        {
          "output_type": "stream",
          "name": "stdout",
          "text": [
            "\n",
            "Data after filling missing values:\n",
            "   Student_Id    Name  Maths  Science  English\n",
            "0         101    Hari     80       70       75\n",
            "1         102   Priya     65       75       85\n",
            "2         103  Sindhu     75       75       85\n",
            "3         104  Nayana     65       85       85\n",
            "4         105  Nithya     85       75       65\n"
          ]
        },
        {
          "output_type": "stream",
          "name": "stderr",
          "text": [
            "/tmp/ipython-input-1658899097.py:1: FutureWarning: A value is trying to be set on a copy of a DataFrame or Series through chained assignment using an inplace method.\n",
            "The behavior will change in pandas 3.0. This inplace method will never work because the intermediate object on which we are setting values always behaves as a copy.\n",
            "\n",
            "For example, when doing 'df[col].method(value, inplace=True)', try using 'df.method({col: value}, inplace=True)' or df[col] = df[col].method(value) instead, to perform the operation inplace on the original object.\n",
            "\n",
            "\n",
            "  df[\"Maths\"].fillna(df[\"Maths\"].mean(), inplace=True)\n",
            "/tmp/ipython-input-1658899097.py:2: FutureWarning: A value is trying to be set on a copy of a DataFrame or Series through chained assignment using an inplace method.\n",
            "The behavior will change in pandas 3.0. This inplace method will never work because the intermediate object on which we are setting values always behaves as a copy.\n",
            "\n",
            "For example, when doing 'df[col].method(value, inplace=True)', try using 'df.method({col: value}, inplace=True)' or df[col] = df[col].method(value) instead, to perform the operation inplace on the original object.\n",
            "\n",
            "\n",
            "  df[\"Science\"].fillna(df[\"Science\"].mean(), inplace=True)\n",
            "/tmp/ipython-input-1658899097.py:3: FutureWarning: A value is trying to be set on a copy of a DataFrame or Series through chained assignment using an inplace method.\n",
            "The behavior will change in pandas 3.0. This inplace method will never work because the intermediate object on which we are setting values always behaves as a copy.\n",
            "\n",
            "For example, when doing 'df[col].method(value, inplace=True)', try using 'df.method({col: value}, inplace=True)' or df[col] = df[col].method(value) instead, to perform the operation inplace on the original object.\n",
            "\n",
            "\n",
            "  df[\"English\"].fillna(df[\"English\"].mean(), inplace=True)\n"
          ]
        }
      ]
    },
    {
      "cell_type": "code",
      "source": [
        "high_achievers = df[(df[\"Maths\"] > 75) & (df[\"Science\"] > 75) & (df[\"English\"] > 75)]\n",
        "\n",
        "print(\"\\nHigh Achievers (All subjects > 75):\")\n",
        "print(high_achievers)"
      ],
      "metadata": {
        "colab": {
          "base_uri": "https://localhost:8080/"
        },
        "id": "cMnuIZSt8vyF",
        "outputId": "f1a05761-d75e-4e87-909e-bd3b8db3c189"
      },
      "execution_count": 6,
      "outputs": [
        {
          "output_type": "stream",
          "name": "stdout",
          "text": [
            "\n",
            "High Achievers (All subjects > 75):\n",
            "Empty DataFrame\n",
            "Columns: [Student_Id, Name, Maths, Science, English]\n",
            "Index: []\n"
          ]
        }
      ]
    }
  ]
}