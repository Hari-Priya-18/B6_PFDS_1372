{
  "nbformat": 4,
  "nbformat_minor": 0,
  "metadata": {
    "colab": {
      "provenance": [],
      "authorship_tag": "ABX9TyM8wyGkcSkfYJx+erUuG8lj",
      "include_colab_link": true
    },
    "kernelspec": {
      "name": "python3",
      "display_name": "Python 3"
    },
    "language_info": {
      "name": "python"
    }
  },
  "cells": [
    {
      "cell_type": "markdown",
      "metadata": {
        "id": "view-in-github",
        "colab_type": "text"
      },
      "source": [
        "<a href=\"https://colab.research.google.com/github/Hari-Priya-18/B6_PFDS_1372/blob/main/Practice_lab_02.ipynb\" target=\"_parent\"><img src=\"https://colab.research.google.com/assets/colab-badge.svg\" alt=\"Open In Colab\"/></a>"
      ]
    },
    {
      "cell_type": "markdown",
      "source": [
        "LIST OPERATIONS"
      ],
      "metadata": {
        "id": "PQphMh-etkBx"
      }
    },
    {
      "cell_type": "code",
      "execution_count": 1,
      "metadata": {
        "colab": {
          "base_uri": "https://localhost:8080/"
        },
        "id": "Ijzzfm1Nrftx",
        "outputId": "2e01386f-557a-436e-c34b-8662bc4a2962"
      },
      "outputs": [
        {
          "output_type": "stream",
          "name": "stdout",
          "text": [
            "[10, 20, 30, 40]\n"
          ]
        }
      ],
      "source": [
        "l=[10,20,30,40]\n",
        "print(l)"
      ]
    },
    {
      "cell_type": "code",
      "source": [
        "l.append(50)\n",
        "print(l)"
      ],
      "metadata": {
        "colab": {
          "base_uri": "https://localhost:8080/"
        },
        "id": "DKt3P9rmsMlz",
        "outputId": "cdac82fd-e667-4b6d-ca39-982c1161bc95"
      },
      "execution_count": 3,
      "outputs": [
        {
          "output_type": "stream",
          "name": "stdout",
          "text": [
            "[10, 20, 30, 40, 50, 50]\n"
          ]
        }
      ]
    },
    {
      "cell_type": "code",
      "source": [
        "l.pop()\n",
        "print(l)"
      ],
      "metadata": {
        "colab": {
          "base_uri": "https://localhost:8080/"
        },
        "id": "3-OFDjPEsSJ0",
        "outputId": "269f6a40-ad56-4f5f-eb1b-98587ebeb43e"
      },
      "execution_count": 14,
      "outputs": [
        {
          "output_type": "stream",
          "name": "stdout",
          "text": [
            "[10, 20, 30]\n"
          ]
        }
      ]
    },
    {
      "cell_type": "code",
      "source": [
        "l.insert(2,25)\n",
        "print(l)"
      ],
      "metadata": {
        "colab": {
          "base_uri": "https://localhost:8080/"
        },
        "id": "hdCUuqhMsSGQ",
        "outputId": "f2c6a47c-6c07-4a6f-dff6-c328dacba2a2"
      },
      "execution_count": 6,
      "outputs": [
        {
          "output_type": "stream",
          "name": "stdout",
          "text": [
            "[10, 20, 25, 25, 30, 40, 50]\n"
          ]
        }
      ]
    },
    {
      "cell_type": "code",
      "source": [
        "l.remove(25)"
      ],
      "metadata": {
        "id": "Moo3rjUIskUe"
      },
      "execution_count": 11,
      "outputs": []
    },
    {
      "cell_type": "code",
      "source": [
        "l=[\"cse\",\"it\",\"eee\",\"ece\"]\n",
        "for i in l:\n",
        "  print(i)"
      ],
      "metadata": {
        "colab": {
          "base_uri": "https://localhost:8080/"
        },
        "id": "u6fhCWvjt0q4",
        "outputId": "e6b08353-12a0-4a41-c978-190466c7525d"
      },
      "execution_count": 15,
      "outputs": [
        {
          "output_type": "stream",
          "name": "stdout",
          "text": [
            "cse\n",
            "it\n",
            "eee\n",
            "ece\n"
          ]
        }
      ]
    },
    {
      "cell_type": "code",
      "source": [
        "if \"cse\" in l:\n",
        "  print(\"Element found\")\n",
        "else:\n",
        "  print(\"Element not Found\")"
      ],
      "metadata": {
        "colab": {
          "base_uri": "https://localhost:8080/"
        },
        "id": "CS1Md2m5t-n2",
        "outputId": "56e54b34-e142-46c1-c1d9-d5faffda3c33"
      },
      "execution_count": 17,
      "outputs": [
        {
          "output_type": "stream",
          "name": "stdout",
          "text": [
            "Element found\n"
          ]
        }
      ]
    },
    {
      "cell_type": "code",
      "source": [
        "l=[\"cse\",\"aaa\",\"bat\",\"Aiml\"]\n",
        "l.sort()\n",
        "print(l)"
      ],
      "metadata": {
        "colab": {
          "base_uri": "https://localhost:8080/"
        },
        "id": "y38Fj8ySuzvq",
        "outputId": "81859e28-6b8f-4f52-b203-9b67cc279460"
      },
      "execution_count": 20,
      "outputs": [
        {
          "output_type": "stream",
          "name": "stdout",
          "text": [
            "['Aiml', 'aaa', 'bat', 'cse']\n"
          ]
        }
      ]
    },
    {
      "cell_type": "code",
      "source": [
        "l.reverse()\n",
        "print(l)"
      ],
      "metadata": {
        "colab": {
          "base_uri": "https://localhost:8080/"
        },
        "id": "LDH3nML-weXe",
        "outputId": "4ee00133-802d-40b9-dbb4-7c21bb3ca180"
      },
      "execution_count": 21,
      "outputs": [
        {
          "output_type": "stream",
          "name": "stdout",
          "text": [
            "['cse', 'bat', 'aaa', 'Aiml']\n"
          ]
        }
      ]
    },
    {
      "cell_type": "code",
      "source": [
        "l=[10,20,30,40]\n",
        "print(\"indexing:\",l[1])\n",
        "print(\"slicing:\",l[0:3])"
      ],
      "metadata": {
        "colab": {
          "base_uri": "https://localhost:8080/"
        },
        "id": "pl8DCJT4wuKU",
        "outputId": "ef5422b2-bc1c-4a14-f173-5700f76ad6b4"
      },
      "execution_count": 22,
      "outputs": [
        {
          "output_type": "stream",
          "name": "stdout",
          "text": [
            "indexing: 20\n",
            "slicing: [10, 20, 30]\n"
          ]
        }
      ]
    },
    {
      "cell_type": "code",
      "source": [
        "print(max(l))\n",
        "print(min(l))\n",
        "print(sum(l))"
      ],
      "metadata": {
        "colab": {
          "base_uri": "https://localhost:8080/"
        },
        "id": "-tIx6Q-CxD6e",
        "outputId": "70de157b-a1fd-48a1-a9b3-d60ceef92633"
      },
      "execution_count": 23,
      "outputs": [
        {
          "output_type": "stream",
          "name": "stdout",
          "text": [
            "40\n",
            "10\n",
            "100\n"
          ]
        }
      ]
    },
    {
      "cell_type": "code",
      "source": [
        "l=[1,9.9,\"cse\"]\n",
        "print(l)\n",
        "for i in l:\n",
        "  print(type(i),i)"
      ],
      "metadata": {
        "colab": {
          "base_uri": "https://localhost:8080/"
        },
        "id": "tlRXWVubxTEW",
        "outputId": "e64420ed-ebcd-4eae-e5f8-335d632b3b03"
      },
      "execution_count": 25,
      "outputs": [
        {
          "output_type": "stream",
          "name": "stdout",
          "text": [
            "[1, 9.9, 'cse']\n",
            "<class 'int'> 1\n",
            "<class 'float'> 9.9\n",
            "<class 'str'> cse\n"
          ]
        }
      ]
    },
    {
      "cell_type": "code",
      "source": [
        "#List with duplicate values\n",
        "l=[1,2,2,3,2]\n",
        "print(l)"
      ],
      "metadata": {
        "colab": {
          "base_uri": "https://localhost:8080/"
        },
        "id": "RNvzlfLRx6C4",
        "outputId": "1abe230a-e0f8-4b42-eb8b-e29c49343c07"
      },
      "execution_count": 26,
      "outputs": [
        {
          "output_type": "stream",
          "name": "stdout",
          "text": [
            "[1, 2, 2, 3, 2]\n"
          ]
        }
      ]
    },
    {
      "cell_type": "code",
      "source": [
        "#Nested List\n",
        "student=[[70,80,90],[10,20,30],[60,70,80],[80,90,100],[90,80,70]]\n",
        "print(student)"
      ],
      "metadata": {
        "colab": {
          "base_uri": "https://localhost:8080/"
        },
        "id": "RWW2LfrNyDTp",
        "outputId": "b446f379-d8e7-4fe5-f662-df95354303da"
      },
      "execution_count": 30,
      "outputs": [
        {
          "output_type": "stream",
          "name": "stdout",
          "text": [
            "[[70, 80, 90], [10, 20, 30], [60, 70, 80], [80, 90, 100], [90, 80, 70]]\n"
          ]
        }
      ]
    },
    {
      "cell_type": "markdown",
      "source": [
        "TUPLE OPERATIONS"
      ],
      "metadata": {
        "id": "Fxv57nXCtuYu"
      }
    },
    {
      "cell_type": "code",
      "source": [
        "t=(10,20,30,40)\n",
        "print(t)"
      ],
      "metadata": {
        "colab": {
          "base_uri": "https://localhost:8080/"
        },
        "id": "cQZ38w-dtx4f",
        "outputId": "3e2ee69b-3ec6-42eb-b506-bffd1db6f013"
      },
      "execution_count": 31,
      "outputs": [
        {
          "output_type": "stream",
          "name": "stdout",
          "text": [
            "(10, 20, 30, 40)\n"
          ]
        }
      ]
    },
    {
      "cell_type": "code",
      "source": [
        "for i in t:\n",
        "  print(i)"
      ],
      "metadata": {
        "colab": {
          "base_uri": "https://localhost:8080/"
        },
        "id": "-EfSrRA3zb3P",
        "outputId": "06e6f2a9-9951-43c7-a49b-8f2336ed695d"
      },
      "execution_count": 33,
      "outputs": [
        {
          "output_type": "stream",
          "name": "stdout",
          "text": [
            "10\n",
            "20\n",
            "30\n",
            "40\n"
          ]
        }
      ]
    },
    {
      "cell_type": "code",
      "source": [
        "t=(\"cse\",\"aiml\",\"ece\",\"eee\")\n",
        "if \"aiml\" in t:\n",
        "  print(\"Element Found\")\n",
        "else:\n",
        "  print(\"Element Not Found\")"
      ],
      "metadata": {
        "colab": {
          "base_uri": "https://localhost:8080/"
        },
        "id": "XvZ_xzAcz0_H",
        "outputId": "ae3217ef-a888-4079-83b0-df7dcf5685c9"
      },
      "execution_count": 34,
      "outputs": [
        {
          "output_type": "stream",
          "name": "stdout",
          "text": [
            "Element Found\n"
          ]
        }
      ]
    },
    {
      "cell_type": "code",
      "source": [
        "t=(\"cse\",99.9,10)\n",
        "print(t)\n",
        "for i in t:\n",
        "  print(type(i),i)\n"
      ],
      "metadata": {
        "colab": {
          "base_uri": "https://localhost:8080/"
        },
        "id": "VqPKqFMH0PXM",
        "outputId": "75b306d6-3200-4e9a-82f1-dae233955bca"
      },
      "execution_count": 37,
      "outputs": [
        {
          "output_type": "stream",
          "name": "stdout",
          "text": [
            "('cse', 99.9, 10)\n",
            "<class 'str'> cse\n",
            "<class 'float'> 99.9\n",
            "<class 'int'> 10\n"
          ]
        }
      ]
    },
    {
      "cell_type": "code",
      "source": [
        "t=(1,2,23,4,5,5)\n",
        "print(t)"
      ],
      "metadata": {
        "colab": {
          "base_uri": "https://localhost:8080/"
        },
        "id": "AEnxVoSc0XMi",
        "outputId": "cf085036-0ccf-4258-dd21-0bc91e9f7420"
      },
      "execution_count": 36,
      "outputs": [
        {
          "output_type": "stream",
          "name": "stdout",
          "text": [
            "(1, 2, 23, 4, 5, 5)\n"
          ]
        }
      ]
    },
    {
      "cell_type": "code",
      "source": [
        "t=(10,20,30,40,20,30,20)\n",
        "print(t.count(20))\n",
        "print(t.index(40))"
      ],
      "metadata": {
        "colab": {
          "base_uri": "https://localhost:8080/"
        },
        "id": "GCcaWXnc0sfO",
        "outputId": "d3609012-0cf4-4817-9d22-176670ea2f63"
      },
      "execution_count": 38,
      "outputs": [
        {
          "output_type": "stream",
          "name": "stdout",
          "text": [
            "3\n",
            "3\n"
          ]
        }
      ]
    },
    {
      "cell_type": "code",
      "source": [
        "l=[10,20,30,40]\n",
        "myt=tuple(l)\n",
        "print(myt)"
      ],
      "metadata": {
        "colab": {
          "base_uri": "https://localhost:8080/"
        },
        "id": "Oj78P5w_08Kq",
        "outputId": "34d476cc-9d6c-4f41-c809-e102865484e9"
      },
      "execution_count": 39,
      "outputs": [
        {
          "output_type": "stream",
          "name": "stdout",
          "text": [
            "(10, 20, 30, 40)\n"
          ]
        }
      ]
    },
    {
      "cell_type": "code",
      "source": [
        "myt.append(50)\n",
        "print(myt)"
      ],
      "metadata": {
        "colab": {
          "base_uri": "https://localhost:8080/",
          "height": 165
        },
        "id": "sL4m_FCe1tOT",
        "outputId": "4c06470a-92d1-4a31-9191-d081a3f2b90a"
      },
      "execution_count": 40,
      "outputs": [
        {
          "output_type": "error",
          "ename": "AttributeError",
          "evalue": "'tuple' object has no attribute 'append'",
          "traceback": [
            "\u001b[0;31m---------------------------------------------------------------------------\u001b[0m",
            "\u001b[0;31mAttributeError\u001b[0m                            Traceback (most recent call last)",
            "\u001b[0;32m/tmp/ipython-input-561988472.py\u001b[0m in \u001b[0;36m<cell line: 0>\u001b[0;34m()\u001b[0m\n\u001b[0;32m----> 1\u001b[0;31m \u001b[0mmyt\u001b[0m\u001b[0;34m.\u001b[0m\u001b[0mappend\u001b[0m\u001b[0;34m(\u001b[0m\u001b[0;36m50\u001b[0m\u001b[0;34m)\u001b[0m\u001b[0;34m\u001b[0m\u001b[0;34m\u001b[0m\u001b[0m\n\u001b[0m\u001b[1;32m      2\u001b[0m \u001b[0mprint\u001b[0m\u001b[0;34m(\u001b[0m\u001b[0mmyt\u001b[0m\u001b[0;34m)\u001b[0m\u001b[0;34m\u001b[0m\u001b[0;34m\u001b[0m\u001b[0m\n",
            "\u001b[0;31mAttributeError\u001b[0m: 'tuple' object has no attribute 'append'"
          ]
        }
      ]
    },
    {
      "cell_type": "markdown",
      "source": [
        "DICTONARY OPERATIONS"
      ],
      "metadata": {
        "id": "w-rQLzAT19Nh"
      }
    },
    {
      "cell_type": "code",
      "source": [
        "student={\"name\":\"python\",\"id\":\"101\",\"branch\":\"cse\"}\n",
        "print(student.keys())\n",
        "print(student.values())\n",
        "print(student.items())"
      ],
      "metadata": {
        "colab": {
          "base_uri": "https://localhost:8080/"
        },
        "id": "ufRj_MCA2CGR",
        "outputId": "93e3fc12-7822-4f6a-e6da-95e2ac990c40"
      },
      "execution_count": 41,
      "outputs": [
        {
          "output_type": "stream",
          "name": "stdout",
          "text": [
            "dict_keys(['name', 'id', 'branch'])\n",
            "dict_values(['python', '101', 'cse'])\n",
            "dict_items([('name', 'python'), ('id', '101'), ('branch', 'cse')])\n"
          ]
        }
      ]
    },
    {
      "cell_type": "code",
      "source": [
        "for key,value in student.items():\n",
        "  print(key,\":\",value)"
      ],
      "metadata": {
        "colab": {
          "base_uri": "https://localhost:8080/"
        },
        "id": "aeYKV5Um2tKn",
        "outputId": "a21de4c9-5ccb-48b8-c44e-b3ed87ea1ef5"
      },
      "execution_count": 42,
      "outputs": [
        {
          "output_type": "stream",
          "name": "stdout",
          "text": [
            "name : python\n",
            "id : 101\n",
            "branch : cse\n"
          ]
        }
      ]
    },
    {
      "cell_type": "code",
      "source": [
        "student[\"college\"]=\"sru\"  #ADD\n",
        "student[\"branch\"]=\"AIML\"  #UPDATE\n",
        "print(student)"
      ],
      "metadata": {
        "colab": {
          "base_uri": "https://localhost:8080/"
        },
        "id": "UkriX1yL3MTr",
        "outputId": "6d976ece-944f-4e87-ec1b-7be6755f9ce9"
      },
      "execution_count": 48,
      "outputs": [
        {
          "output_type": "stream",
          "name": "stdout",
          "text": [
            "{'name': 'python', 'branch': 'AIML', 'college': 'sru'}\n"
          ]
        }
      ]
    },
    {
      "cell_type": "code",
      "source": [
        "if \"branch\" in student:\n",
        "  print(\"Key Found\")\n",
        "else:\n",
        "  print(\"Key Not Found\")"
      ],
      "metadata": {
        "colab": {
          "base_uri": "https://localhost:8080/"
        },
        "id": "y--Ynzfv4Ohh",
        "outputId": "2b970d2b-e9e8-45be-cc2d-3a47edd3e68d"
      },
      "execution_count": 50,
      "outputs": [
        {
          "output_type": "stream",
          "name": "stdout",
          "text": [
            "Key Found\n"
          ]
        }
      ]
    },
    {
      "cell_type": "code",
      "source": [
        "# NESTED DICTIONARY\n",
        "student={\"1\":{\"name\":\"python\",\"branch\":\"cse\"},\"2\":{\"name\":\"java\",\"branch\":\"AIML\"}}\n",
        "print(student)"
      ],
      "metadata": {
        "colab": {
          "base_uri": "https://localhost:8080/"
        },
        "id": "GMwn69mQ496p",
        "outputId": "3e347c1c-66fd-4d6b-ca17-7b9115351fb8"
      },
      "execution_count": 52,
      "outputs": [
        {
          "output_type": "stream",
          "name": "stdout",
          "text": [
            "{'1': {'name': 'python', 'branch': 'cse'}, '2': {'name': 'java', 'branch': 'AIML'}}\n"
          ]
        }
      ]
    },
    {
      "cell_type": "code",
      "source": [
        "print(student[\"2\"][\"name\"])"
      ],
      "metadata": {
        "colab": {
          "base_uri": "https://localhost:8080/"
        },
        "id": "_pk7166q6d0x",
        "outputId": "accf1828-1cbc-4f39-e494-7d3c592b07b8"
      },
      "execution_count": 53,
      "outputs": [
        {
          "output_type": "stream",
          "name": "stdout",
          "text": [
            "java\n"
          ]
        }
      ]
    },
    {
      "cell_type": "code",
      "source": [
        "student={\"name\":\"c\",\"id\":\"1\",\"branch\":\"cse\",\"name\":\"c\"}\n",
        "print(student)"
      ],
      "metadata": {
        "colab": {
          "base_uri": "https://localhost:8080/"
        },
        "id": "HZRXGinQ7EhC",
        "outputId": "ddaabe92-c0d8-4292-8d46-fb8d9376f9f9"
      },
      "execution_count": 56,
      "outputs": [
        {
          "output_type": "stream",
          "name": "stdout",
          "text": [
            "{'name': 'c', 'id': '1', 'branch': 'cse'}\n"
          ]
        }
      ]
    },
    {
      "cell_type": "markdown",
      "source": [
        "# SET OPERATIONS"
      ],
      "metadata": {
        "id": "BsO3xaTH8DoQ"
      }
    },
    {
      "cell_type": "code",
      "source": [
        "s={1,2,3.4}\n",
        "print(s)"
      ],
      "metadata": {
        "colab": {
          "base_uri": "https://localhost:8080/"
        },
        "id": "pPrt6Qc18C5P",
        "outputId": "7c2ea06c-d87a-4dd6-fe01-50cd25731706"
      },
      "execution_count": 57,
      "outputs": [
        {
          "output_type": "stream",
          "name": "stdout",
          "text": [
            "{1, 2, 3.4}\n"
          ]
        }
      ]
    },
    {
      "cell_type": "code",
      "source": [
        "s={1,2,3,2,4,5,2}\n",
        "print(s)"
      ],
      "metadata": {
        "colab": {
          "base_uri": "https://localhost:8080/"
        },
        "id": "daXkowoF8gtK",
        "outputId": "ae21c81b-fe9a-4b4b-915a-4a32e5b84623"
      },
      "execution_count": 58,
      "outputs": [
        {
          "output_type": "stream",
          "name": "stdout",
          "text": [
            "{1, 2, 3, 4, 5}\n"
          ]
        }
      ]
    },
    {
      "cell_type": "code",
      "source": [
        "s.add(6)\n",
        "print(s)\n",
        "s.remove(5)\n",
        "print(s)"
      ],
      "metadata": {
        "colab": {
          "base_uri": "https://localhost:8080/"
        },
        "id": "A47vEXw28xvd",
        "outputId": "7f0c0a34-f0f0-4147-bdd5-fbc221e74cdf"
      },
      "execution_count": 64,
      "outputs": [
        {
          "output_type": "stream",
          "name": "stdout",
          "text": [
            "{1, 2, 3, 5, 6}\n",
            "{1, 2, 3, 6}\n"
          ]
        }
      ]
    },
    {
      "cell_type": "code",
      "source": [
        "A={1,2,3,4}\n",
        "B={4,5,6,7}\n",
        "print(\"Union\",A|B)\n",
        "print(\"Intersection\",A&B)\n",
        "print(\"Difference\",A-B)\n",
        "print(\"Symmetric Differnce\",A^B)"
      ],
      "metadata": {
        "colab": {
          "base_uri": "https://localhost:8080/"
        },
        "id": "nPCObfBs846R",
        "outputId": "5fcec85f-6317-43f5-be1f-36db4c71991d"
      },
      "execution_count": 60,
      "outputs": [
        {
          "output_type": "stream",
          "name": "stdout",
          "text": [
            "Union {1, 2, 3, 4, 5, 6, 7}\n",
            "Intersection {4}\n",
            "Difference {1, 2, 3}\n",
            "Symmetric Differnce {1, 2, 3, 5, 6, 7}\n"
          ]
        }
      ]
    },
    {
      "cell_type": "code",
      "source": [
        "for i in s:\n",
        "  print(i)\n",
        "if 2 in s:\n",
        "  print(\"Element Found\")\n",
        "else:\n",
        "  print(\"Element Not Found\")"
      ],
      "metadata": {
        "colab": {
          "base_uri": "https://localhost:8080/"
        },
        "id": "jCBVZopJ9Yah",
        "outputId": "bd1d698d-e20b-4206-921f-18f3aff31ef5"
      },
      "execution_count": 61,
      "outputs": [
        {
          "output_type": "stream",
          "name": "stdout",
          "text": [
            "1\n",
            "2\n",
            "3\n",
            "5\n",
            "6\n",
            "Element Found\n"
          ]
        }
      ]
    },
    {
      "cell_type": "code",
      "metadata": {
        "colab": {
          "base_uri": "https://localhost:8080/"
        },
        "id": "5f53475c",
        "outputId": "17cbc858-5a8c-4302-e8be-6494d06ec163"
      },
      "source": [
        "s.clear()\n",
        "print(s)"
      ],
      "execution_count": 65,
      "outputs": [
        {
          "output_type": "stream",
          "name": "stdout",
          "text": [
            "set()\n"
          ]
        }
      ]
    }
  ]
}