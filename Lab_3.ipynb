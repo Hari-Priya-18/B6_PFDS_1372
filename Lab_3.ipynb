{
  "nbformat": 4,
  "nbformat_minor": 0,
  "metadata": {
    "colab": {
      "provenance": [],
      "authorship_tag": "ABX9TyMy2KSrZzDyyNJ2SRgFm2ca",
      "include_colab_link": true
    },
    "kernelspec": {
      "name": "python3",
      "display_name": "Python 3"
    },
    "language_info": {
      "name": "python"
    }
  },
  "cells": [
    {
      "cell_type": "markdown",
      "metadata": {
        "id": "view-in-github",
        "colab_type": "text"
      },
      "source": [
        "<a href=\"https://colab.research.google.com/github/Hari-Priya-18/B6_PFDS_1372/blob/main/Lab_3.ipynb\" target=\"_parent\"><img src=\"https://colab.research.google.com/assets/colab-badge.svg\" alt=\"Open In Colab\"/></a>"
      ]
    },
    {
      "cell_type": "markdown",
      "source": [
        "Question-1"
      ],
      "metadata": {
        "id": "ic4FNLAu4Oyw"
      }
    },
    {
      "cell_type": "code",
      "execution_count": 12,
      "metadata": {
        "colab": {
          "base_uri": "https://localhost:8080/"
        },
        "id": "XH263h5u0bjf",
        "outputId": "1fc2c5fa-e937-4f36-c2a7-0c7415961cb3"
      },
      "outputs": [
        {
          "output_type": "stream",
          "name": "stdout",
          "text": [
            "Matrix A:\n",
            " [[1 2 3]\n",
            " [4 5 6]\n",
            " [4 3 2]]\n",
            "Matrix B:\n",
            " [[9 8 7]\n",
            " [1 2 3]\n",
            " [5 3 4]]\n"
          ]
        }
      ],
      "source": [
        "import numpy as np\n",
        "A=np.array([[1,2,3],[4,5,6],[4,3,2]])\n",
        "B=np.array([[9,8,7],[1,2,3],[5,3,4]])\n",
        "print(\"Matrix A:\\n\",A)\n",
        "print(\"Matrix B:\\n\",B)"
      ]
    },
    {
      "cell_type": "markdown",
      "metadata": {
        "id": "3869c9ea"
      },
      "source": [
        "Addition"
      ]
    },
    {
      "cell_type": "code",
      "metadata": {
        "colab": {
          "base_uri": "https://localhost:8080/"
        },
        "id": "19549e38",
        "outputId": "95295761-0843-4cdf-ae16-c81785bec3ee"
      },
      "source": [
        "add = np.add(A, B)\n",
        "print(\"Addition (A + B):\\n\", add)"
      ],
      "execution_count": 10,
      "outputs": [
        {
          "output_type": "stream",
          "name": "stdout",
          "text": [
            "Addition (A + B):\n",
            " [[10 10 10]\n",
            " [ 5  7  9]\n",
            " [ 9  6  6]]\n"
          ]
        }
      ]
    },
    {
      "cell_type": "markdown",
      "metadata": {
        "id": "5fdcd869"
      },
      "source": [
        "Subtraction"
      ]
    },
    {
      "cell_type": "code",
      "metadata": {
        "colab": {
          "base_uri": "https://localhost:8080/"
        },
        "id": "96457572",
        "outputId": "915464f8-4ec2-48dd-c41a-fcfbc524dec2"
      },
      "source": [
        "sub = np.subtract(A, B)\n",
        "print(\"Subtraction (A - B):\\n\", sub)"
      ],
      "execution_count": 9,
      "outputs": [
        {
          "output_type": "stream",
          "name": "stdout",
          "text": [
            "Subtraction (A - B):\n",
            " [[-8 -6 -4]\n",
            " [ 3  3  3]\n",
            " [-1  0 -2]]\n"
          ]
        }
      ]
    },
    {
      "cell_type": "markdown",
      "source": [
        "Question-2"
      ],
      "metadata": {
        "id": "ywLon1JS4Scn"
      }
    },
    {
      "cell_type": "code",
      "source": [
        "P=np.array([[3,4,5],[2,3,1]])\n",
        "Q=np.array([[1,2],[3,4],[5,6]])\n",
        "print(\"Matrix P:\\n\",P)\n",
        "print(\"Matrix Q:\\n\",Q)"
      ],
      "metadata": {
        "colab": {
          "base_uri": "https://localhost:8080/"
        },
        "id": "lEWpdQ764Wv7",
        "outputId": "530591d9-fa75-4a0f-98db-e8489bb363c0"
      },
      "execution_count": 11,
      "outputs": [
        {
          "output_type": "stream",
          "name": "stdout",
          "text": [
            "Matrix P:\n",
            " [[3 4 5]\n",
            " [2 3 1]]\n",
            "Matrix Q:\n",
            " [[1 2]\n",
            " [3 4]\n",
            " [5 6]]\n"
          ]
        }
      ]
    },
    {
      "cell_type": "markdown",
      "metadata": {
        "id": "53cbd00a"
      },
      "source": [
        "Dot Product using np.dot()"
      ]
    },
    {
      "cell_type": "code",
      "metadata": {
        "colab": {
          "base_uri": "https://localhost:8080/"
        },
        "id": "70f8059d",
        "outputId": "d11fea11-e09e-4009-9c2a-8e7ad16e9d3e"
      },
      "source": [
        "dot_product = np.dot(P, Q)\n",
        "print(\"Dot Product (P . Q):\\n\", dot_product)"
      ],
      "execution_count": 13,
      "outputs": [
        {
          "output_type": "stream",
          "name": "stdout",
          "text": [
            "Dot Product (P . Q):\n",
            " [[40 52]\n",
            " [16 22]]\n"
          ]
        }
      ]
    },
    {
      "cell_type": "markdown",
      "metadata": {
        "id": "33757f15"
      },
      "source": [
        "Dot Product using the @ operator"
      ]
    },
    {
      "cell_type": "code",
      "metadata": {
        "colab": {
          "base_uri": "https://localhost:8080/"
        },
        "id": "283f61b4",
        "outputId": "eda0d3ad-4f36-40ce-a248-2ab5b2e19b20"
      },
      "source": [
        "dot_product_at = P @ Q\n",
        "print(\"Dot Product (P @ Q):\\n\", dot_product_at)"
      ],
      "execution_count": 14,
      "outputs": [
        {
          "output_type": "stream",
          "name": "stdout",
          "text": [
            "Dot Product (P @ Q):\n",
            " [[40 52]\n",
            " [16 22]]\n"
          ]
        }
      ]
    }
  ]
}