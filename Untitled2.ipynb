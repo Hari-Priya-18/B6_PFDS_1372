{
  "nbformat": 4,
  "nbformat_minor": 0,
  "metadata": {
    "colab": {
      "provenance": [],
      "authorship_tag": "ABX9TyMnERdV3WL4RhTGb/1SYmr5",
      "include_colab_link": true
    },
    "kernelspec": {
      "name": "python3",
      "display_name": "Python 3"
    },
    "language_info": {
      "name": "python"
    }
  },
  "cells": [
    {
      "cell_type": "markdown",
      "metadata": {
        "id": "view-in-github",
        "colab_type": "text"
      },
      "source": [
        "<a href=\"https://colab.research.google.com/github/Hari-Priya-18/B6_PFDS_1372/blob/main/Untitled2.ipynb\" target=\"_parent\"><img src=\"https://colab.research.google.com/assets/colab-badge.svg\" alt=\"Open In Colab\"/></a>"
      ]
    },
    {
      "cell_type": "code",
      "metadata": {
        "colab": {
          "base_uri": "https://localhost:8080/"
        },
        "id": "992e6934",
        "outputId": "7d7cded7-d7d4-4b9b-934a-0b366f9c7544"
      },
      "source": [
        "from sklearn.model_selection import train_test_split, GridSearchCV\n",
        "from sklearn.preprocessing import StandardScaler, OneHotEncoder\n",
        "from sklearn.compose import ColumnTransformer\n",
        "from sklearn.metrics import accuracy_score, classification_report\n",
        "from imblearn.over_sampling import SMOTE\n",
        "from imblearn.pipeline import Pipeline as ImbPipeline\n",
        "from sklearn.ensemble import RandomForestClassifier\n",
        "import numpy as np\n",
        "\n",
        "datasets = {\n",
        "    \"Depression\": df1,\n",
        "    \"Stress\": df2,\n",
        "    \"Coping\": df3,\n",
        "    \"MentalHealth\": df4\n",
        "}\n",
        "\n",
        "target_columns = {\n",
        "    \"Depression\": \"Depression\",   # change to actual target column name\n",
        "    \"Stress\": \"Stress_Level\",     # Corrected target column name for Stress dataset\n",
        "    \"Coping\": \"Stress Coping Mechanisms\",  # change to actual target column name\n",
        "    \"MentalHealth\": \"treatment\"  # change to actual target column name\n",
        "}\n",
        "\n",
        "for name, data in datasets.items():\n",
        "    # Skip processing for Coping and MentalHealth datasets for now\n",
        "    if name in [\"Coping\", \"MentalHealth\"]:\n",
        "        print(f\"\\n===== Skipping {name} Dataset due to unresolved target column name =====\")\n",
        "        continue\n",
        "\n",
        "    print(f\"\\n===== {name} Dataset =====\")\n",
        "    target = target_columns[name]\n",
        "\n",
        "    # Drop rows with missing target\n",
        "    data = data.dropna(subset=[target])\n",
        "\n",
        "    X = data.drop(columns=[target])\n",
        "    y = data[target]\n",
        "\n",
        "    # Identify categorical and numerical features\n",
        "    categorical_features = X.select_dtypes(include=['object', 'category']).columns\n",
        "    numerical_features = X.select_dtypes(include=np.number).columns\n",
        "\n",
        "    # Create a column transformer for preprocessing\n",
        "    preprocessor = ColumnTransformer(\n",
        "        transformers=[\n",
        "            ('num', StandardScaler(), numerical_features),\n",
        "            ('cat', OneHotEncoder(handle_unknown='ignore'), categorical_features)\n",
        "        ],\n",
        "        remainder='passthrough' # Keep other columns (if any)\n",
        "    )\n",
        "\n",
        "    # Train/test split\n",
        "    X_train, X_test, y_train, y_test = train_test_split(\n",
        "        X, y, test_size=0.2, random_state=42 # Removed stratify due to potential issues with multi-class targets and small sample sizes after dropping NaNs\n",
        "    )\n",
        "\n",
        "    # Build pipeline with preprocessor, SMOTE, and Random Forest\n",
        "    pipe = ImbPipeline([\n",
        "        ('preprocessor', preprocessor),\n",
        "        ('smote', SMOTE(random_state=42)),\n",
        "        ('clf', RandomForestClassifier(random_state=42))\n",
        "    ])\n",
        "\n",
        "    # Define the parameter grid for GridSearchCV\n",
        "    param_grid = {\n",
        "        'clf__n_estimators': [100, 200, 300],\n",
        "        'clf__max_depth': [None, 10, 20, 30]\n",
        "    }\n",
        "\n",
        "    # Perform GridSearchCV\n",
        "    grid_search = GridSearchCV(pipe, param_grid, cv=3, scoring='accuracy', n_jobs=-1)\n",
        "    grid_search.fit(X_train, y_train)\n",
        "\n",
        "    # Get the best model\n",
        "    best_model = grid_search.best_estimator_\n",
        "\n",
        "    # Predict with the best model\n",
        "    y_pred = best_model.predict(X_test)\n",
        "\n",
        "    # Accuracy + classification report\n",
        "    acc = accuracy_score(y_test, y_pred)\n",
        "    print(\"Accuracy:\", acc)\n",
        "    print(classification_report(y_test, y_pred))\n",
        "    print(\"Best parameters found:\", grid_search.best_params_)"
      ],
      "execution_count": null,
      "outputs": [
        {
          "output_type": "stream",
          "name": "stdout",
          "text": [
            "\n",
            "===== Depression Dataset =====\n"
          ]
        }
      ]
    }
  ]
}